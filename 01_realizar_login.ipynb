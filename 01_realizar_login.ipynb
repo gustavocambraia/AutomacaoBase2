{
 "cells": [
  {
   "cell_type": "code",
   "execution_count": 1,
   "metadata": {},
   "outputs": [],
   "source": [
    "from selenium import webdriver\n",
    "from selenium.webdriver.common.keys import Keys\n",
    "\n",
    "## dados que serão utilizados\n",
    "url = \"https://mantis.saojudas.base2.com.br/login_page.php\"\n",
    "mensagem = \"Sua conta pode estar desativada ou bloqueada ou o nome de usuário e a senha que você digitou não estão corretos.\"\n",
    "users_validos = {\n",
    "    \"Fernanda\" : 81721367\n",
    "    }\n",
    "\n",
    "users_invalidos = {\n",
    "    \"12345\" : 81721367,\n",
    "    \"aaaaa\" : 123456\n",
    "}"
   ]
  },
  {
   "cell_type": "code",
   "execution_count": 2,
   "metadata": {},
   "outputs": [
    {
     "name": "stdout",
     "output_type": "stream",
     "text": [
      "Login com usuário válido - OK\n"
     ]
    }
   ],
   "source": [
    "#Função de login com usuario valido\n",
    "def login_com_usuario_valido(): \n",
    "        for k,v in users_validos.items():\n",
    "            #abre navegador e acessa url\n",
    "            navegador = webdriver.Chrome()\n",
    "            navegador.get(url)\n",
    "            \n",
    "            #localiza e digita no campo de usuário\n",
    "            username = navegador.find_element_by_xpath('//*[@id=\"username\"]')  \n",
    "            username.send_keys(k)\n",
    "            navegador.find_element_by_xpath('//*[@id=\"login-form\"]/fieldset/input[2]').click()\n",
    "\n",
    "            #localiza  e digita no campo de senha\n",
    "            password = navegador.find_element_by_xpath('//*[@id=\"password\"]')\n",
    "            password.send_keys(v)\n",
    "            navegador.find_element_by_xpath('//*[@id=\"login-form\"]/fieldset/input[3]').click()\n",
    "\n",
    "            #verifica se acessou a página inicial\n",
    "            assert \"https://mantis.saojudas.base2.com.br/my_view_page.php\" in navegador.current_url\n",
    "            #print(k)\n",
    "\n",
    "            navegador.close()\n",
    "        \n",
    "        print(\"Login com usuário válido - OK\")\n",
    "        \n",
    "        \n",
    "login_com_usuario_valido()"
   ]
  },
  {
   "cell_type": "code",
   "execution_count": 3,
   "metadata": {},
   "outputs": [
    {
     "name": "stdout",
     "output_type": "stream",
     "text": [
      "Login com usuário inválido - OK\n"
     ]
    }
   ],
   "source": [
    "#Função de login com usuário invalido\n",
    "def login_com_usuario_invalido():\n",
    "        for k,v in users_invalidos.items():\n",
    "            #abre navegador e acessa url\n",
    "            navegador = webdriver.Chrome()\n",
    "            navegador.get(url)\n",
    "            \n",
    "            #localiza e digita no campo de usuário\n",
    "            username = navegador.find_element_by_xpath('//*[@id=\"username\"]')    \n",
    "            username.send_keys(k)\n",
    "            navegador.find_element_by_xpath('//*[@id=\"login-form\"]/fieldset/input[2]').click()\n",
    "\n",
    "            #localiza e digita no campo de senha\n",
    "            password = navegador.find_element_by_xpath('//*[@id=\"password\"]')\n",
    "            password.send_keys(v)\n",
    "            navegador.find_element_by_xpath('//*[@id=\"login-form\"]/fieldset/input[3]').click()\n",
    "\n",
    "            #verifica se retornou mensagem de erro\n",
    "            assert mensagem in navegador.page_source\n",
    "            #print(k)\n",
    "\n",
    "            navegador.close()\n",
    "        \n",
    "        print(\"Login com usuário inválido - OK\")\n",
    "        \n",
    "\n",
    "login_com_usuario_invalido()"
   ]
  },
  {
   "cell_type": "code",
   "execution_count": 4,
   "metadata": {},
   "outputs": [
    {
     "name": "stdout",
     "output_type": "stream",
     "text": [
      "Login sem usuário - OK\n"
     ]
    }
   ],
   "source": [
    "#Função de login sem inserir usuário\n",
    "def login_sem_usuario():\n",
    "    #abre navegador e acessa url\n",
    "    navegador = webdriver.Chrome()\n",
    "    navegador.get(url)\n",
    "    \n",
    "    #localiza e clica no botão de logar\n",
    "    navegador.find_element_by_xpath('//*[@id=\"login-form\"]/fieldset/input[2]').click()\n",
    "    \n",
    "    #verifica se retornou mensagem de erro\n",
    "    assert mensagem in navegador.page_source\n",
    "    navegador.close()\n",
    "    print(\"Login sem usuário - OK\")\n",
    "    \n",
    "login_sem_usuario()"
   ]
  }
 ],
 "metadata": {
  "kernelspec": {
   "display_name": "Python 3",
   "language": "python",
   "name": "python3"
  },
  "language_info": {
   "codemirror_mode": {
    "name": "ipython",
    "version": 3
   },
   "file_extension": ".py",
   "mimetype": "text/x-python",
   "name": "python",
   "nbconvert_exporter": "python",
   "pygments_lexer": "ipython3",
   "version": "3.8.5"
  }
 },
 "nbformat": 4,
 "nbformat_minor": 4
}
