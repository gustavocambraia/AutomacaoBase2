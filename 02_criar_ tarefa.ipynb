{
 "cells": [
  {
   "cell_type": "code",
   "execution_count": 1,
   "metadata": {},
   "outputs": [],
   "source": [
    "from selenium import webdriver\n",
    "from selenium.webdriver.common.keys import Keys\n",
    "from selenium.webdriver.common.by import By\n",
    "from selenium.webdriver.support.ui import WebDriverWait\n",
    "from selenium.webdriver.support import expected_conditions as EC\n",
    "\n",
    "#dados que serão utilizados\n",
    "url = \"https://mantis.saojudas.base2.com.br/login_page.php\"\n",
    "\n",
    "resumo = [\"resumo tarefa\"]\n",
    "descricao = [\"descricao tarefa\"]"
   ]
  },
  {
   "cell_type": "code",
   "execution_count": 2,
   "metadata": {},
   "outputs": [],
   "source": [
    "#função para realizar o login\n",
    "def login(navegador):\n",
    "    #localiza e digita nos campos de usuario e senha\n",
    "    navegador.find_element_by_xpath('//*[@id=\"username\"]').send_keys('Fernanda')\n",
    "    navegador.find_element_by_xpath('//*[@id=\"login-form\"]/fieldset/input[2]').click()\n",
    "    navegador.find_element_by_xpath('//*[@id=\"password\"]').send_keys(81721367)\n",
    "    navegador.find_element_by_xpath('//*[@id=\"login-form\"]/fieldset/input[3]').click()\n",
    "    assert \"https://mantis.saojudas.base2.com.br/my_view_page.php\" in navegador.current_url\n",
    "    \n",
    "    #acessa página de reportar bug\n",
    "    navegador.find_element_by_xpath('//*[@id=\"navbar-container\"]/div[2]/ul/li[1]/div/a').click()    \n",
    "    assert \"https://mantis.saojudas.base2.com.br/bug_report_page.php\" in navegador.current_url"
   ]
  },
  {
   "cell_type": "code",
   "execution_count": 3,
   "metadata": {},
   "outputs": [
    {
     "name": "stdout",
     "output_type": "stream",
     "text": [
      "Criar tarefa preenchendo apenas campos requeridos - OK\n"
     ]
    }
   ],
   "source": [
    "#Função para criar preenchendo apenas os campos requeridos\n",
    "def criar_tarefa_preenchendo_apenas_campos_requeridos():\n",
    "    #abre o navegador e acessa a url\n",
    "    navegador = webdriver.Chrome()\n",
    "    navegador.get(url)\n",
    "    \n",
    "    #realiza o login\n",
    "    login(navegador)\n",
    "    \n",
    "    #localiza e digita nos campos requeridos de resumo e descricao\n",
    "    navegador.find_element_by_name('summary').send_keys(resumo[0])\n",
    "    navegador.find_element_by_name('description').send_keys(descricao[0])\n",
    "    navegador.find_element_by_xpath('//*[@id=\"report_bug_form\"]/div/div[2]/div[2]/input').click()\n",
    "    \n",
    "    #verifica se a tarefa foi criada\n",
    "    assert \"Operação realizada com sucesso.\" in navegador.page_source\n",
    "    \n",
    "    #verifica se o sistema retornou os detalhes da tarefa criada\n",
    "    try:\n",
    "        WebDriverWait(navegador, 10).until(\n",
    "            EC.url_contains(\"https://mantis.saojudas.base2.com.br/view.php\")        \n",
    "        )\n",
    "    finally:\n",
    "        navegador.close()\n",
    "        print(\"Criar tarefa preenchendo apenas campos requeridos - OK\")\n",
    "    \n",
    "criar_tarefa_preenchendo_apenas_campos_requeridos()"
   ]
  },
  {
   "cell_type": "code",
   "execution_count": 4,
   "metadata": {},
   "outputs": [
    {
     "name": "stdout",
     "output_type": "stream",
     "text": [
      "Criar tarefa preenchendo campos input - OK\n"
     ]
    }
   ],
   "source": [
    "#Função para criar tarefa preenchendo apenas campos input\n",
    "def criar_tarefa_preenchendo_input():\n",
    "    #abre o navegador e acessa a url\n",
    "    navegador = webdriver.Chrome()\n",
    "    navegador.get(url)\n",
    "    \n",
    "    #realiza o login\n",
    "    login(navegador)\n",
    "\n",
    "    #localiza e digita nos campos de input resumo, descricao, perfil, passos, \n",
    "    # informacao adicional e marcadores\n",
    "    navegador.find_element_by_name('summary').send_keys(resumo[0])\n",
    "    navegador.find_element_by_name('description').send_keys(descricao[0])\n",
    "    \n",
    "    try:\n",
    "        if navegador.find_element_by_css_selector('#profile_closed_link').is_displayed():\n",
    "            navegador.find_element_by_css_selector('#profile_closed_link').click()\n",
    "        WebDriverWait(navegador, 10).until(\n",
    "            EC.visibility_of(navegador.find_element_by_xpath('//*[@id=\"profile_open\"]/table'))\n",
    "        )\n",
    "    finally:\n",
    "        navegador.find_element_by_name('platform').send_keys(\"plataforma tarefa\")\n",
    "        navegador.find_element_by_name('os').send_keys(\"so tarefa\")\n",
    "        navegador.find_element_by_name('os_build').send_keys(\"versao so\")\n",
    "        navegador.find_element_by_name('steps_to_reproduce').send_keys(\"passos tarefa\")\n",
    "        navegador.find_element_by_name('additional_info').send_keys(\"informacoes tarefa\")\n",
    "        navegador.find_element_by_name('tag_string').send_keys('tag')\n",
    "        navegador.find_element_by_xpath('//*[@id=\"report_bug_form\"]/div/div[2]/div[2]/input').click()\n",
    "\n",
    "    #verifica se a tarefa foi criada\n",
    "    assert \"Operação realizada com sucesso.\" in navegador.page_source\n",
    "    \n",
    "    #verifica se o sistema retornou os detalhes da tarefa criada\n",
    "    try:\n",
    "        WebDriverWait(navegador, 10).until(\n",
    "            EC.url_contains(\"https://mantis.saojudas.base2.com.br/view.php\")        \n",
    "        )\n",
    "    finally:\n",
    "        navegador.close()\n",
    "        print(\"Criar tarefa preenchendo campos input - OK\")\n",
    "    \n",
    "    \n",
    "criar_tarefa_preenchendo_input()"
   ]
  },
  {
   "cell_type": "code",
   "execution_count": 5,
   "metadata": {},
   "outputs": [
    {
     "name": "stdout",
     "output_type": "stream",
     "text": [
      "Criar tarefa sem preencher nenhum campo - OK\n"
     ]
    }
   ],
   "source": [
    "#Função para criar uma tarefa sem preencher campos\n",
    "def criar_tarefa_sem_preencher_nenhum_campo():\n",
    "    #abre o navegador e acessa a url\n",
    "    navegador = webdriver.Chrome()\n",
    "    navegador.get(url)\n",
    "    \n",
    "    #realiza o login\n",
    "    login(navegador)\n",
    "\n",
    "    #localiza e clica em criar tarefa\n",
    "    navegador.find_element_by_xpath('//*[@id=\"report_bug_form\"]/div/div[2]/div[2]/input').click()\n",
    "    \n",
    "    #verifica se o navegador mudou de url\n",
    "    assert \"https://mantis.saojudas.base2.com.br/bug_report_page.php\" in navegador.current_url\n",
    "    \n",
    "    navegador.close()  \n",
    "    print(\"Criar tarefa sem preencher nenhum campo - OK\")\n",
    "    \n",
    "criar_tarefa_sem_preencher_nenhum_campo()"
   ]
  },
  {
   "cell_type": "code",
   "execution_count": 6,
   "metadata": {},
   "outputs": [],
   "source": [
    "## código auxiliar para carregar arquivos\n",
    "\n",
    "from selenium.webdriver.remote.webelement import WebElement\n",
    "import os.path\n",
    "\n",
    "# JavaScript: HTML5 File drop\n",
    "# source            : https://gist.github.com/florentbr/0eff8b785e85e93ecc3ce500169bd676\n",
    "# param1 WebElement : Drop area element\n",
    "# param2 Double     : Optional - Drop offset x relative to the top/left corner of the drop area. Center if 0.\n",
    "# param3 Double     : Optional - Drop offset y relative to the top/left corner of the drop area. Center if 0.\n",
    "# return WebElement : File input\n",
    "JS_DROP_FILES = \"var c=arguments,b=c[0],k=c[1];c=c[2];for(var d=b.ownerDocument||document,l=0;;){var e=b.getBoundingClientRect(),g=e.left+(k||e.width/2),h=e.top+(c||e.height/2),f=d.elementFromPoint(g,h);if(f&&b.contains(f))break;if(1<++l)throw b=Error('Element not interactable'),b.code=15,b;b.scrollIntoView({behavior:'instant',block:'center',inline:'center'})}var a=d.createElement('INPUT');a.setAttribute('type','file');a.setAttribute('multiple','');a.setAttribute('style','position:fixed;z-index:2147483647;left:0;top:0;');a.onchange=function(b){a.parentElement.removeChild(a);b.stopPropagation();var c={constructor:DataTransfer,effectAllowed:'all',dropEffect:'none',types:['Files'],files:a.files,setData:function(){},getData:function(){},clearData:function(){},setDragImage:function(){}};window.DataTransferItemList&&(c.items=Object.setPrototypeOf(Array.prototype.map.call(a.files,function(a){return{constructor:DataTransferItem,kind:'file',type:a.type,getAsFile:function(){return a},getAsString:function(b){var c=new FileReader;c.onload=function(a){b(a.target.result)};c.readAsText(a)}}}),{constructor:DataTransferItemList,add:function(){},clear:function(){},remove:function(){}}));['dragenter','dragover','drop'].forEach(function(a){var b=d.createEvent('DragEvent');b.initMouseEvent(a,!0,!0,d.defaultView,0,0,0,g,h,!1,!1,!1,!1,0,null);Object.setPrototypeOf(b,null);b.dataTransfer=c;Object.setPrototypeOf(b,DragEvent.prototype);f.dispatchEvent(b)})};d.documentElement.appendChild(a);a.getBoundingClientRect();return a;\"\n",
    "\n",
    "def drop_files(element, files, offsetX=0, offsetY=0):\n",
    "    driver = element.parent\n",
    "    isLocal = not driver._is_remote or '127.0.0.1' in driver.command_executor._url\n",
    "    paths = []\n",
    "    \n",
    "    # ensure files are present, and upload to the remote server if session is remote\n",
    "    for file in (files if isinstance(files, list) else [files]) :\n",
    "        if not os.path.isfile(file) :\n",
    "            raise FileNotFoundError(file)\n",
    "        paths.append(file if isLocal else element._upload(file))\n",
    "    \n",
    "    value = '\\n'.join(paths)\n",
    "    elm_input = driver.execute_script(JS_DROP_FILES, element, offsetX, offsetY)\n",
    "    elm_input._execute('sendKeysToElement', {'value': [value], 'text': value})\n",
    "\n",
    "WebElement.drop_files = drop_files"
   ]
  },
  {
   "cell_type": "code",
   "execution_count": 9,
   "metadata": {},
   "outputs": [
    {
     "name": "stdout",
     "output_type": "stream",
     "text": [
      "Anexar arquivo válido - OK\n"
     ]
    }
   ],
   "source": [
    "#Função para criar tarefa anexando um arquivo valido\n",
    "def anexar_arquivo_valido():    \n",
    "    #abre navegador e acessa url\n",
    "    navegador = webdriver.Chrome()\n",
    "    navegador.get(url)\n",
    "\n",
    "    #realiza login\n",
    "    login(navegador)\n",
    "\n",
    "    #localiza e preenche campos requeridos\n",
    "    navegador.find_element_by_name('summary').send_keys(resumo[0])\n",
    "    navegador.find_element_by_name('description').send_keys(descricao[0])\n",
    "    \n",
    "    #carrega arquivo teste.pdf\n",
    "    navegador.find_element_by_class_name('dropzone').drop_files(r'C:\\Users\\Fernanda\\Desktop\\base2\\teste.pdf') ### MUDAR\n",
    "    navegador.find_element_by_xpath('//*[@id=\"report_bug_form\"]/div/div[2]/div[2]/input').click()\n",
    "    \n",
    "    #verifica se o sistema retorna os detalhes da tarefa criada\n",
    "    try:\n",
    "        WebDriverWait(navegador, 10).until(\n",
    "            EC.url_contains(\"https://mantis.saojudas.base2.com.br/view.php\")        \n",
    "        )\n",
    "    finally:\n",
    "        navegador.close()\n",
    "        print(\"Anexar arquivo válido - OK\")\n",
    "    \n",
    "anexar_arquivo_valido()"
   ]
  },
  {
   "cell_type": "code",
   "execution_count": 16,
   "metadata": {},
   "outputs": [
    {
     "name": "stdout",
     "output_type": "stream",
     "text": [
      "Anexar arquivo excedendo tamanho máximo - OK\n"
     ]
    }
   ],
   "source": [
    "#Função para criar tarefa anexando arquivo inválido\n",
    "def arquivo_excedendo_tamanho_maximo():  \n",
    "    #abre o navegador e acessa url\n",
    "    navegador = webdriver.Chrome()\n",
    "    navegador.get(url)\n",
    "\n",
    "    #realiza login\n",
    "    login(navegador)\n",
    "\n",
    "    #carrega arquivo teste_excedido.csv\n",
    "    navegador.find_element_by_class_name('dropzone').drop_files(r'C:\\Users\\Fernanda\\Desktop\\base2\\teste_excedido.csv') ### MUDAR\n",
    "    \n",
    "    #verifica se o sistema retorna mensagem de alerta\n",
    "    try:\n",
    "        alert = WebDriverWait(navegador, 10).until(EC.alert_is_present())\n",
    "        assert \"tamanho máximo de arquivo permitido\" in alert.text\n",
    "        alert.accept()\n",
    "    finally:\n",
    "        navegador.close()\n",
    "        print(\"Anexar arquivo excedendo tamanho máximo - OK\")\n",
    "    \n",
    "arquivo_excedendo_tamanho_maximo()"
   ]
  },
  {
   "cell_type": "code",
   "execution_count": 10,
   "metadata": {},
   "outputs": [
    {
     "name": "stdout",
     "output_type": "stream",
     "text": [
      "Criar tarefas em sequência - OK\n"
     ]
    }
   ],
   "source": [
    "#Função para criar tarefas em sequencia\n",
    "def criar_tarefas_em_sequencia():\n",
    "    #abre navegador e acessa url\n",
    "    navegador = webdriver.Chrome()\n",
    "    navegador.get(url)\n",
    "    \n",
    "    #realiza login\n",
    "    login(navegador)\n",
    "\n",
    "    #localiza e preenche campos requeridos\n",
    "    navegador.find_element_by_name('summary').send_keys(resumo[0])\n",
    "    navegador.find_element_by_name('description').send_keys(descricao[0])\n",
    "    \n",
    "    #localiza e seleciona checkbox para continuar criando tarefas\n",
    "    navegador.find_element_by_xpath(\".//*[contains(text(), 'selecione para criar mais tarefas')]\").click()\n",
    "    navegador.find_element_by_xpath('//*[@id=\"report_bug_form\"]/div/div[2]/div[2]/input').click()\n",
    "\n",
    "    #verifica se o sistema retorna para a página de criar tarefas\n",
    "    try:\n",
    "        WebDriverWait(navegador, 10).until(\n",
    "            EC.url_contains(\"https://mantis.saojudas.base2.com.br/bug_report_page.php\")        \n",
    "        )\n",
    "    finally:\n",
    "        navegador.close()\n",
    "        print(\"Criar tarefas em sequência - OK\")\n",
    "    \n",
    "criar_tarefas_em_sequencia()"
   ]
  }
 ],
 "metadata": {
  "kernelspec": {
   "display_name": "Python 3",
   "language": "python",
   "name": "python3"
  },
  "language_info": {
   "codemirror_mode": {
    "name": "ipython",
    "version": 3
   },
   "file_extension": ".py",
   "mimetype": "text/x-python",
   "name": "python",
   "nbconvert_exporter": "python",
   "pygments_lexer": "ipython3",
   "version": "3.8.5"
  }
 },
 "nbformat": 4,
 "nbformat_minor": 4
}
