{
 "cells": [
  {
   "cell_type": "code",
   "execution_count": 5,
   "metadata": {},
   "outputs": [],
   "source": [
    "import time\n",
    "from selenium import webdriver\n",
    "from selenium.webdriver.common.keys import Keys\n",
    "from selenium.webdriver.common.by import By\n",
    "from selenium.webdriver.support.ui import WebDriverWait\n",
    "from selenium.webdriver.support import expected_conditions as EC\n",
    "\n",
    "#dados que serão utilizados\n",
    "url = \"https://mantis.saojudas.base2.com.br/login_page.php\""
   ]
  },
  {
   "cell_type": "code",
   "execution_count": 6,
   "metadata": {},
   "outputs": [],
   "source": [
    "#função para realizar login e criar tarefa teste\n",
    "def setup(navegador):\n",
    "    #realiza login\n",
    "    navegador.find_element_by_xpath('//*[@id=\"username\"]').send_keys('Fernanda')\n",
    "    navegador.find_element_by_xpath('//*[@id=\"login-form\"]/fieldset/input[2]').click()\n",
    "    navegador.find_element_by_xpath('//*[@id=\"password\"]').send_keys(81721367)\n",
    "    navegador.find_element_by_xpath('//*[@id=\"login-form\"]/fieldset/input[3]').click()\n",
    "    assert \"https://mantis.saojudas.base2.com.br/my_view_page.php\" in navegador.current_url\n",
    "    \n",
    "    #cria nova tarefa teste\n",
    "    navegador.find_element_by_xpath('//*[@id=\"navbar-container\"]/div[2]/ul/li[1]/div/a').click()   \n",
    "    assert \"https://mantis.saojudas.base2.com.br/bug_report_page.php\" in navegador.current_url\n",
    "    navegador.find_element_by_name('summary').send_keys('resumo tarefa teste')\n",
    "    navegador.find_element_by_name('description').send_keys('descricao tarefa teste')\n",
    "    navegador.find_element_by_xpath('//*[@id=\"report_bug_form\"]/div/div[2]/div[2]/input').click()\n",
    "    WebDriverWait(navegador, 10).until(\n",
    "        EC.url_contains(\"https://mantis.saojudas.base2.com.br/view.php\"))"
   ]
  },
  {
   "cell_type": "code",
   "execution_count": 7,
   "metadata": {},
   "outputs": [],
   "source": [
    "#configurando opcoes do google chrome\n",
    "def opcoes():\n",
    "    options = webdriver.ChromeOptions()\n",
    "    #options.add_argument(\"--start-maximized\") \n",
    "    prefs = {\"profile.default_content_settings.popups\": 0,\n",
    "                \"download.default_directory\": r\"C:\\Users\\Fernanda\\Desktop\\\\\", ### MUDAR PATH PARA SALVAR ARQUIVOS\n",
    "                \"directory_upgrade\": True,\n",
    "                'safebrowsing.enabled': 'false'}\n",
    "    options.add_experimental_option(\"prefs\", prefs)\n",
    "    return options"
   ]
  },
  {
   "cell_type": "code",
   "execution_count": 8,
   "metadata": {},
   "outputs": [
    {
     "name": "stdout",
     "output_type": "stream",
     "text": [
      "Exportar tarefa para CSV - OK\n"
     ]
    }
   ],
   "source": [
    "#Função para exportar tarefas para csv\n",
    "def exportar_para_csv():\n",
    "    #abre navegador e acessa url\n",
    "    navegador = webdriver.Chrome(options=opcoes())\n",
    "    navegador.get(url)\n",
    "    \n",
    "    #realiza login e cria nova tarefa\n",
    "    setup(navegador)\n",
    "    \n",
    "    #localiza botão para exportar e salva arquivo\n",
    "    navegador.find_element_by_xpath('//*[@id=\"sidebar\"]/ul/li[2]/a').click()\n",
    "    assert \"https://mantis.saojudas.base2.com.br/view_all_bug_page.php\" in navegador.current_url\n",
    "    navegador.find_element_by_xpath('//*[@id=\"bug_action\"]/div/div[2]/div[1]/div/div[1]/a[2]').click()\n",
    "    \n",
    "    #tempo para o download\n",
    "    time.sleep(5)\n",
    "    \n",
    "    navegador.close()\n",
    "    print(\"Exportar tarefa para CSV - OK\")\n",
    "    \n",
    "exportar_para_csv()"
   ]
  },
  {
   "cell_type": "code",
   "execution_count": 9,
   "metadata": {},
   "outputs": [
    {
     "name": "stdout",
     "output_type": "stream",
     "text": [
      "Exportar tarefa para EXCEL - OK\n"
     ]
    }
   ],
   "source": [
    "#Função para exportar tarefas para excel\n",
    "def exportar_para_excel():\n",
    "    #abrir navegador e acessa url\n",
    "    navegador = webdriver.Chrome(options=opcoes())\n",
    "    navegador.get(url)\n",
    "    \n",
    "    #realiza login e cria nova tarefa\n",
    "    setup(navegador)\n",
    "    \n",
    "    #localiza botão para exportar e salva arquivo\n",
    "    navegador.find_element_by_xpath('//*[@id=\"sidebar\"]/ul/li[2]/a').click()\n",
    "    assert \"https://mantis.saojudas.base2.com.br/view_all_bug_page.php\" in navegador.current_url\n",
    "    navegador.find_element_by_xpath('//*[@id=\"bug_action\"]/div/div[2]/div[1]/div/div[1]/a[3]').click()\n",
    "    \n",
    "    #tempo para download\n",
    "    time.sleep(5)\n",
    "    \n",
    "    navegador.close()\n",
    "    print(\"Exportar tarefa para EXCEL - OK\")\n",
    "    \n",
    "exportar_para_excel()"
   ]
  }
 ],
 "metadata": {
  "kernelspec": {
   "display_name": "Python 3",
   "language": "python",
   "name": "python3"
  },
  "language_info": {
   "codemirror_mode": {
    "name": "ipython",
    "version": 3
   },
   "file_extension": ".py",
   "mimetype": "text/x-python",
   "name": "python",
   "nbconvert_exporter": "python",
   "pygments_lexer": "ipython3",
   "version": "3.8.5"
  }
 },
 "nbformat": 4,
 "nbformat_minor": 4
}
